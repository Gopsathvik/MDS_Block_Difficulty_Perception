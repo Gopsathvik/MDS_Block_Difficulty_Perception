{
 "cells": [
  {
   "cell_type": "markdown",
   "metadata": {},
   "source": [
    "# DSCI-554 Milestone 2 EDA\n",
    "\n",
    "### Educational & Occupational Impact on Perception of Block Difficulty\n",
    "\n",
    "#### Authors: Rayce Rossum, Ting Pan, Gopalakrishnan Andivel, Alex Hope"
   ]
  },
  {
   "cell_type": "markdown",
   "metadata": {},
   "source": [
    "### Overview\n",
    "\n",
    "Below you will find the data we collected, along with column transformations and visualizations of relevant variables we feel are important to this project. These primarily relate to education, employment, sex, age and block difficulty."
   ]
  },
  {
   "cell_type": "code",
   "execution_count": 1,
   "metadata": {},
   "outputs": [],
   "source": [
    "### Bring in some dependencies\n",
    "import pandas as pd\n",
    "import numpy as np\n",
    "import matplotlib.pyplot as plt\n",
    "import seaborn as sns"
   ]
  },
  {
   "cell_type": "code",
   "execution_count": 2,
   "metadata": {},
   "outputs": [],
   "source": [
    "##### A little data preparation... I manually coded the faculties\n",
    "## Read csv\n",
    "data= pd.read_csv(\"../data/data.csv\")\n",
    "data = data.iloc[:,1:9]"
   ]
  },
  {
   "cell_type": "code",
   "execution_count": 3,
   "metadata": {},
   "outputs": [
    {
     "data": {
      "text/html": [
       "<div>\n",
       "<style scoped>\n",
       "    .dataframe tbody tr th:only-of-type {\n",
       "        vertical-align: middle;\n",
       "    }\n",
       "\n",
       "    .dataframe tbody tr th {\n",
       "        vertical-align: top;\n",
       "    }\n",
       "\n",
       "    .dataframe thead th {\n",
       "        text-align: right;\n",
       "    }\n",
       "</style>\n",
       "<table border=\"1\" class=\"dataframe\">\n",
       "  <thead>\n",
       "    <tr style=\"text-align: right;\">\n",
       "      <th></th>\n",
       "      <th>Faculty</th>\n",
       "      <th>Which faculty is your undergraduate degree from?</th>\n",
       "      <th>What is your undergraduate major?</th>\n",
       "      <th>Last_Job(Categorical)</th>\n",
       "      <th>What was your last job?</th>\n",
       "      <th>Which age group do you belong to?</th>\n",
       "      <th>What is your sex?</th>\n",
       "      <th>Which block did you find more difficult?</th>\n",
       "      <th>Sex</th>\n",
       "      <th>Age</th>\n",
       "      <th>Block_Difficulty</th>\n",
       "    </tr>\n",
       "  </thead>\n",
       "  <tbody>\n",
       "    <tr>\n",
       "      <th>0</th>\n",
       "      <td>1</td>\n",
       "      <td>Science</td>\n",
       "      <td>Computer Science</td>\n",
       "      <td>1</td>\n",
       "      <td>Software Developer</td>\n",
       "      <td>19-24</td>\n",
       "      <td>Male</td>\n",
       "      <td>Block 5 (February)</td>\n",
       "      <td>1</td>\n",
       "      <td>1</td>\n",
       "      <td>2</td>\n",
       "    </tr>\n",
       "    <tr>\n",
       "      <th>1</th>\n",
       "      <td>2</td>\n",
       "      <td>Business</td>\n",
       "      <td>B.Comm</td>\n",
       "      <td>2</td>\n",
       "      <td>Analyst</td>\n",
       "      <td>25-29</td>\n",
       "      <td>Female</td>\n",
       "      <td>Block 4 (January)</td>\n",
       "      <td>2</td>\n",
       "      <td>2</td>\n",
       "      <td>1</td>\n",
       "    </tr>\n",
       "    <tr>\n",
       "      <th>2</th>\n",
       "      <td>1</td>\n",
       "      <td>Science</td>\n",
       "      <td>Financial Math &amp; Stat</td>\n",
       "      <td>2</td>\n",
       "      <td>Marketing</td>\n",
       "      <td>19-24</td>\n",
       "      <td>Female</td>\n",
       "      <td>Block 5 (February)</td>\n",
       "      <td>2</td>\n",
       "      <td>1</td>\n",
       "      <td>2</td>\n",
       "    </tr>\n",
       "    <tr>\n",
       "      <th>3</th>\n",
       "      <td>1</td>\n",
       "      <td>Human and Social Development</td>\n",
       "      <td>Health Information Science</td>\n",
       "      <td>2</td>\n",
       "      <td>Product Analyst</td>\n",
       "      <td>35+</td>\n",
       "      <td>Male</td>\n",
       "      <td>Block 5 (February)</td>\n",
       "      <td>1</td>\n",
       "      <td>4</td>\n",
       "      <td>2</td>\n",
       "    </tr>\n",
       "    <tr>\n",
       "      <th>4</th>\n",
       "      <td>2</td>\n",
       "      <td>Business</td>\n",
       "      <td>Commerce</td>\n",
       "      <td>1</td>\n",
       "      <td>Data Visualization Analyst</td>\n",
       "      <td>19-24</td>\n",
       "      <td>Female</td>\n",
       "      <td>Block 5 (February)</td>\n",
       "      <td>2</td>\n",
       "      <td>1</td>\n",
       "      <td>2</td>\n",
       "    </tr>\n",
       "  </tbody>\n",
       "</table>\n",
       "</div>"
      ],
      "text/plain": [
       "   Faculty Which faculty is your undergraduate degree from?  \\\n",
       "0        1                                          Science   \n",
       "1        2                                         Business   \n",
       "2        1                                          Science   \n",
       "3        1                     Human and Social Development   \n",
       "4        2                                         Business   \n",
       "\n",
       "  What is your undergraduate major?  Last_Job(Categorical)  \\\n",
       "0                  Computer Science                      1   \n",
       "1                            B.Comm                      2   \n",
       "2             Financial Math & Stat                      2   \n",
       "3        Health Information Science                      2   \n",
       "4                          Commerce                      1   \n",
       "\n",
       "      What was your last job? Which age group do you belong to?  \\\n",
       "0          Software Developer                             19-24   \n",
       "1                     Analyst                             25-29   \n",
       "2                   Marketing                             19-24   \n",
       "3             Product Analyst                               35+   \n",
       "4  Data Visualization Analyst                             19-24   \n",
       "\n",
       "  What is your sex? Which block did you find more difficult?  Sex  Age  \\\n",
       "0              Male                       Block 5 (February)    1    1   \n",
       "1            Female                        Block 4 (January)    2    2   \n",
       "2            Female                       Block 5 (February)    2    1   \n",
       "3              Male                       Block 5 (February)    1    4   \n",
       "4            Female                       Block 5 (February)    2    1   \n",
       "\n",
       "   Block_Difficulty  \n",
       "0                 2  \n",
       "1                 1  \n",
       "2                 2  \n",
       "3                 2  \n",
       "4                 2  "
      ]
     },
     "execution_count": 3,
     "metadata": {},
     "output_type": "execute_result"
    }
   ],
   "source": [
    "### Numerics for Age/Sex/Block Difficulty\n",
    "#### Sex variable\n",
    "# No comment = 0, Male = 1, Female = 2\n",
    "data['Sex'] = data['What is your sex?'].map({'Prefer not to say': 0,'Male':1,'Female':2})\n",
    "\n",
    "### Age Variable\n",
    "# 19-24 = 1, 25-29 = 2, 30-34 = 3, 35+ = 4\n",
    "data['Age'] = data['Which age group do you belong to?'].map({'19-24':1,'25-29':2,'30-34':3,'35+':4})\n",
    "\n",
    "#### Block Difficulty\n",
    "# Block 4 = 1, Block 5 = 2\n",
    "data['Block_Difficulty'] = data['Which block did you find more difficult?'].map({'Block 4 (January)': 1, 'Block 5 (February)': 2})\n",
    "data.head()\n",
    "\n"
   ]
  },
  {
   "cell_type": "code",
   "execution_count": 4,
   "metadata": {},
   "outputs": [
    {
     "data": {
      "text/html": [
       "<div>\n",
       "<style scoped>\n",
       "    .dataframe tbody tr th:only-of-type {\n",
       "        vertical-align: middle;\n",
       "    }\n",
       "\n",
       "    .dataframe tbody tr th {\n",
       "        vertical-align: top;\n",
       "    }\n",
       "\n",
       "    .dataframe thead tr th {\n",
       "        text-align: left;\n",
       "    }\n",
       "\n",
       "    .dataframe thead tr:last-of-type th {\n",
       "        text-align: right;\n",
       "    }\n",
       "</style>\n",
       "<table border=\"1\" class=\"dataframe\">\n",
       "  <thead>\n",
       "    <tr>\n",
       "      <th></th>\n",
       "      <th colspan=\"8\" halign=\"left\">Age</th>\n",
       "      <th colspan=\"2\" halign=\"left\">Block_Difficulty</th>\n",
       "      <th>...</th>\n",
       "      <th colspan=\"2\" halign=\"left\">Last_Job(Categorical)</th>\n",
       "      <th colspan=\"8\" halign=\"left\">Sex</th>\n",
       "    </tr>\n",
       "    <tr>\n",
       "      <th></th>\n",
       "      <th>count</th>\n",
       "      <th>mean</th>\n",
       "      <th>std</th>\n",
       "      <th>min</th>\n",
       "      <th>25%</th>\n",
       "      <th>50%</th>\n",
       "      <th>75%</th>\n",
       "      <th>max</th>\n",
       "      <th>count</th>\n",
       "      <th>mean</th>\n",
       "      <th>...</th>\n",
       "      <th>75%</th>\n",
       "      <th>max</th>\n",
       "      <th>count</th>\n",
       "      <th>mean</th>\n",
       "      <th>std</th>\n",
       "      <th>min</th>\n",
       "      <th>25%</th>\n",
       "      <th>50%</th>\n",
       "      <th>75%</th>\n",
       "      <th>max</th>\n",
       "    </tr>\n",
       "    <tr>\n",
       "      <th>Faculty</th>\n",
       "      <th></th>\n",
       "      <th></th>\n",
       "      <th></th>\n",
       "      <th></th>\n",
       "      <th></th>\n",
       "      <th></th>\n",
       "      <th></th>\n",
       "      <th></th>\n",
       "      <th></th>\n",
       "      <th></th>\n",
       "      <th></th>\n",
       "      <th></th>\n",
       "      <th></th>\n",
       "      <th></th>\n",
       "      <th></th>\n",
       "      <th></th>\n",
       "      <th></th>\n",
       "      <th></th>\n",
       "      <th></th>\n",
       "      <th></th>\n",
       "      <th></th>\n",
       "    </tr>\n",
       "  </thead>\n",
       "  <tbody>\n",
       "    <tr>\n",
       "      <th>1</th>\n",
       "      <td>26.0</td>\n",
       "      <td>2.153846</td>\n",
       "      <td>1.084152</td>\n",
       "      <td>1.0</td>\n",
       "      <td>1.00</td>\n",
       "      <td>2.0</td>\n",
       "      <td>3.0</td>\n",
       "      <td>4.0</td>\n",
       "      <td>26.0</td>\n",
       "      <td>1.576923</td>\n",
       "      <td>...</td>\n",
       "      <td>2.0</td>\n",
       "      <td>9.0</td>\n",
       "      <td>26.0</td>\n",
       "      <td>1.423077</td>\n",
       "      <td>0.643309</td>\n",
       "      <td>0.0</td>\n",
       "      <td>1.0</td>\n",
       "      <td>1.5</td>\n",
       "      <td>2.00</td>\n",
       "      <td>2.0</td>\n",
       "    </tr>\n",
       "    <tr>\n",
       "      <th>2</th>\n",
       "      <td>10.0</td>\n",
       "      <td>1.700000</td>\n",
       "      <td>0.483046</td>\n",
       "      <td>1.0</td>\n",
       "      <td>1.25</td>\n",
       "      <td>2.0</td>\n",
       "      <td>2.0</td>\n",
       "      <td>2.0</td>\n",
       "      <td>10.0</td>\n",
       "      <td>1.600000</td>\n",
       "      <td>...</td>\n",
       "      <td>2.0</td>\n",
       "      <td>2.0</td>\n",
       "      <td>10.0</td>\n",
       "      <td>1.200000</td>\n",
       "      <td>0.632456</td>\n",
       "      <td>0.0</td>\n",
       "      <td>1.0</td>\n",
       "      <td>1.0</td>\n",
       "      <td>1.75</td>\n",
       "      <td>2.0</td>\n",
       "    </tr>\n",
       "    <tr>\n",
       "      <th>3</th>\n",
       "      <td>17.0</td>\n",
       "      <td>2.176471</td>\n",
       "      <td>0.951006</td>\n",
       "      <td>1.0</td>\n",
       "      <td>2.00</td>\n",
       "      <td>2.0</td>\n",
       "      <td>3.0</td>\n",
       "      <td>4.0</td>\n",
       "      <td>17.0</td>\n",
       "      <td>1.588235</td>\n",
       "      <td>...</td>\n",
       "      <td>2.0</td>\n",
       "      <td>3.0</td>\n",
       "      <td>17.0</td>\n",
       "      <td>1.294118</td>\n",
       "      <td>0.469668</td>\n",
       "      <td>1.0</td>\n",
       "      <td>1.0</td>\n",
       "      <td>1.0</td>\n",
       "      <td>2.00</td>\n",
       "      <td>2.0</td>\n",
       "    </tr>\n",
       "    <tr>\n",
       "      <th>4</th>\n",
       "      <td>5.0</td>\n",
       "      <td>2.600000</td>\n",
       "      <td>0.894427</td>\n",
       "      <td>2.0</td>\n",
       "      <td>2.00</td>\n",
       "      <td>2.0</td>\n",
       "      <td>3.0</td>\n",
       "      <td>4.0</td>\n",
       "      <td>5.0</td>\n",
       "      <td>1.600000</td>\n",
       "      <td>...</td>\n",
       "      <td>9.0</td>\n",
       "      <td>9.0</td>\n",
       "      <td>5.0</td>\n",
       "      <td>1.400000</td>\n",
       "      <td>0.547723</td>\n",
       "      <td>1.0</td>\n",
       "      <td>1.0</td>\n",
       "      <td>1.0</td>\n",
       "      <td>2.00</td>\n",
       "      <td>2.0</td>\n",
       "    </tr>\n",
       "  </tbody>\n",
       "</table>\n",
       "<p>4 rows × 32 columns</p>\n",
       "</div>"
      ],
      "text/plain": [
       "          Age                                               Block_Difficulty  \\\n",
       "        count      mean       std  min   25%  50%  75%  max            count   \n",
       "Faculty                                                                        \n",
       "1        26.0  2.153846  1.084152  1.0  1.00  2.0  3.0  4.0             26.0   \n",
       "2        10.0  1.700000  0.483046  1.0  1.25  2.0  2.0  2.0             10.0   \n",
       "3        17.0  2.176471  0.951006  1.0  2.00  2.0  3.0  4.0             17.0   \n",
       "4         5.0  2.600000  0.894427  2.0  2.00  2.0  3.0  4.0              5.0   \n",
       "\n",
       "                  ...  Last_Job(Categorical)        Sex                      \\\n",
       "             mean ...                    75%  max count      mean       std   \n",
       "Faculty           ...                                                         \n",
       "1        1.576923 ...                    2.0  9.0  26.0  1.423077  0.643309   \n",
       "2        1.600000 ...                    2.0  2.0  10.0  1.200000  0.632456   \n",
       "3        1.588235 ...                    2.0  3.0  17.0  1.294118  0.469668   \n",
       "4        1.600000 ...                    9.0  9.0   5.0  1.400000  0.547723   \n",
       "\n",
       "                                   \n",
       "         min  25%  50%   75%  max  \n",
       "Faculty                            \n",
       "1        0.0  1.0  1.5  2.00  2.0  \n",
       "2        0.0  1.0  1.0  1.75  2.0  \n",
       "3        1.0  1.0  1.0  2.00  2.0  \n",
       "4        1.0  1.0  1.0  2.00  2.0  \n",
       "\n",
       "[4 rows x 32 columns]"
      ]
     },
     "execution_count": 4,
     "metadata": {},
     "output_type": "execute_result"
    }
   ],
   "source": [
    "### Groupby Faculty Summary\n",
    "data_groupby = data.groupby(['Faculty'])\n",
    "\n",
    "### Honestly a straight summary table wasn't useful\n",
    "data_groupby.describe()"
   ]
  },
  {
   "cell_type": "markdown",
   "metadata": {},
   "source": [
    "## Variable Labels\n",
    "\n",
    "- **Faculty**: \n",
    "    - Science = 1\n",
    "    - Business = 2\n",
    "    - Engineering = 3\n",
    "    - Arts=4\n",
    "<br>\n",
    "\n",
    "- **Last_Job(Categorical)**:\n",
    "    - Unemployed or N/A = 0\n",
    "    - Science = 1\n",
    "    - Business = 2\n",
    "    - Engineering = 3\n",
    "    - Arts = 4\n",
    "<br>\n",
    "\n",
    "- **Block_Difficulty**:\n",
    "    - Block 4 = 1\n",
    "    - Block 5 = 2\n",
    "<br>\n",
    "\n",
    "- **Age**:\n",
    "    - 19-24 = 1\n",
    "    - 25-29 = 2\n",
    "    - 30-34 = 3\n",
    "    - 35+ = 4\n",
    "<br>\n",
    "\n",
    "- **Biological Sex**:\n",
    "    - Prefer not to say: 0\n",
    "    - Male: 1\n",
    "    - Female: 2"
   ]
  },
  {
   "cell_type": "code",
   "execution_count": 5,
   "metadata": {},
   "outputs": [
    {
     "data": {
      "text/plain": [
       "Text(0.5, 0, 'Biological Sex')"
      ]
     },
     "execution_count": 5,
     "metadata": {},
     "output_type": "execute_result"
    },
    {
     "data": {
      "text/plain": [
       "<Figure size 432x288 with 0 Axes>"
      ]
     },
     "metadata": {},
     "output_type": "display_data"
    },
    {
     "data": {
      "image/png": "[encoded data removed]",
      "text/plain": [
       "<Figure size 720x504 with 4 Axes>"
      ]
     },
     "metadata": {
      "needs_background": "light"
     },
     "output_type": "display_data"
    }
   ],
   "source": [
    "### Histogram Subplots\n",
    "\n",
    "\n",
    "plt.figure(1)\n",
    "\n",
    "fig = plt.figure(figsize=(10,7))\n",
    "st = fig.suptitle(\"Exploratory Histograms of Variables\",fontsize=\"x-large\")\n",
    "####### Some subplots\n",
    "### Histogram of Faculty\n",
    "ax1= fig.add_subplot(221)\n",
    "plt.hist(data['Faculty'])\n",
    "plt.xlabel(\"Educational Background (Faculty)\")\n",
    "\n",
    "### Histogram of Block Difficulty\n",
    "ax2=fig.add_subplot(222)\n",
    "plt.hist(data['Block_Difficulty'])\n",
    "plt.xlabel(\"Block 4 or 5\")\n",
    "\n",
    "### Histogram of Age\n",
    "ax3= fig.add_subplot(223)\n",
    "plt.hist(data['Age'])\n",
    "plt.xlabel(\"Age\")\n",
    "\n",
    "### Histogram of Sex\n",
    "ax4= fig.add_subplot(224)\n",
    "plt.hist(data['Sex'])\n",
    "plt.xlabel('Biological Sex')\n",
    "\n",
    "#fig.subplots_adjust(top = 0.75,bottom = 0.1)\n",
    "\n",
    "\n",
    "#plt.subplots_adjust(left=1,right=2,top= 3,bottom = 1)\n"
   ]
  },
  {
   "cell_type": "markdown",
   "metadata": {},
   "source": [
    "Histograms of `Faculty`, `Block_Difficulty`, `Age` and `Sex` reveals:\n",
    "- More respondents were in the faculty of Science/Engineering than those in Business/Arts.\n",
    "- For majority of respondents, block 5 tends to be tougher than block 4.\n",
    "- There're more respondents from 19 to 29 than above 30.\n",
    "- More male respondents than female, and outliers are who select \"prefer not to say\"."
   ]
  },
  {
   "cell_type": "code",
   "execution_count": 13,
   "metadata": {
    "scrolled": true
   },
   "outputs": [
    {
     "data": {
      "text/plain": [
       "<matplotlib.axes._subplots.AxesSubplot at 0x1a23814550>"
      ]
     },
     "execution_count": 13,
     "metadata": {},
     "output_type": "execute_result"
    },
    {
     "data": {
      "image/png": "[encoded data removed]",
      "text/plain": [
       "<Figure size 432x288 with 1 Axes>"
      ]
     },
     "metadata": {
      "needs_background": "light"
     },
     "output_type": "display_data"
    }
   ],
   "source": [
    "#### Plotting Interactions Between Variables\n",
    "plt.title(\"Block Difficulty Perceptions By Faculty\")\n",
    "sns.countplot(data['Faculty'],hue=data['Block_Difficulty'])\n"
   ]
  },
  {
   "cell_type": "markdown",
   "metadata": {},
   "source": [
    "- **Faculty**: \n",
    "    - Science = 1\n",
    "    - Business = 2\n",
    "    - Engineering = 3\n",
    "    - Arts=4"
   ]
  },
  {
   "cell_type": "markdown",
   "metadata": {},
   "source": [
    "Grouped histograms of `Faculty` and `Block_Difficulty` suggests:\n",
    "- For all the faculty groups, our servey data skews block 5 to be more difficult than block 4. Also, the propotions are similar for each group."
   ]
  },
  {
   "cell_type": "code",
   "execution_count": 14,
   "metadata": {},
   "outputs": [
    {
     "data": {
      "text/plain": [
       "<matplotlib.axes._subplots.AxesSubplot at 0x1a23b5d2b0>"
      ]
     },
     "execution_count": 14,
     "metadata": {},
     "output_type": "execute_result"
    },
    {
     "data": {
      "image/png": "[encoded data removed]",
      "text/plain": [
       "<Figure size 432x288 with 1 Axes>"
      ]
     },
     "metadata": {
      "needs_background": "light"
     },
     "output_type": "display_data"
    }
   ],
   "source": [
    "plt.title(\"Block Difficulty by Last Job\")\n",
    "sns.countplot(data['Last_Job(Categorical)'],hue=data['Block_Difficulty'])"
   ]
  },
  {
   "cell_type": "markdown",
   "metadata": {},
   "source": [
    "- **Last_Job(Categorical)**:\n",
    "    - Unemployed or N/A = 0\n",
    "    - Science = 1\n",
    "    - Business = 2\n",
    "    - Engineering = 3\n",
    "    - Arts = 4"
   ]
  },
  {
   "cell_type": "markdown",
   "metadata": {},
   "source": [
    "Grouped histograms of `Last_Job` and `Block_Difficulty` suggests:\n",
    "- For most respondents who have no working experience before or have last job related to Science/Business, block 5 is tougher than block 4. However, respondents with last job in Enginerring/Arts prefer to say block 4 is harder."
   ]
  },
  {
   "cell_type": "markdown",
   "metadata": {},
   "source": [
    "### Conclusion\n",
    "\n",
    "- Here you can see differences in block difficulty perceptions based on a variety of variables. We intend to explore these effects further in future analyses, although the initial EDA has been quite useful in teasing effects apart as well!"
   ]
  },
  {
   "cell_type": "code",
   "execution_count": null,
   "metadata": {},
   "outputs": [],
   "source": []
  }
 ],
 "metadata": {
  "kernelspec": {
   "display_name": "Python 3",
   "language": "python",
   "name": "python3"
  },
  "language_info": {
   "codemirror_mode": {
    "name": "ipython",
    "version": 3
   },
   "file_extension": ".py",
   "mimetype": "text/x-python",
   "name": "python",
   "nbconvert_exporter": "python",
   "pygments_lexer": "ipython3",
   "version": "3.7.1"
  }
 },
 "nbformat": 4,
 "nbformat_minor": 2
}
